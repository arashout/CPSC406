{
 "cells": [
  {
   "cell_type": "code",
   "execution_count": 71,
   "metadata": {},
   "outputs": [
    {
     "name": "stdout",
     "output_type": "stream",
     "text": [
      "\u001b[32m\u001b[1m Resolving\u001b[22m\u001b[39m package versions...\n",
      "\u001b[32m\u001b[1m  Updating\u001b[22m\u001b[39m `~/.julia/environments/v1.1/Project.toml`\n",
      "\u001b[90m [no changes]\u001b[39m\n",
      "\u001b[32m\u001b[1m  Updating\u001b[22m\u001b[39m `~/.julia/environments/v1.1/Manifest.toml`\n",
      "\u001b[90m [no changes]\u001b[39m\n"
     ]
    }
   ],
   "source": [
    "Pkg.add(\"DataFrames\")\n",
    "using DataFrames, CSV, Statistics;"
   ]
  },
  {
   "cell_type": "code",
   "execution_count": 67,
   "metadata": {},
   "outputs": [],
   "source": [
    "df = CSV.read(\"points.csv\");\n",
    "m = length(df.x);\n",
    "# TODO: Use zip method?\n",
    "z = [[ Float64.(df.x[i]), Float64.(df.y[i])] for i=1:m];"
   ]
  },
  {
   "cell_type": "code",
   "execution_count": 62,
   "metadata": {},
   "outputs": [
    {
     "data": {
      "text/plain": [
       "A (generic function with 1 method)"
      ]
     },
     "execution_count": 62,
     "metadata": {},
     "output_type": "execute_result"
    }
   ],
   "source": [
    "using ForwardDiff\n",
    "# Where x = [xc, yc, r]\n",
    "r(x) = [\n",
    "    (x[1] - z[1])^2 + (x[2] - z[2])^2 - x[3]^3 \n",
    "    for i=1:m\n",
    "    ]\n",
    "# Manually computed gradient\n",
    "A(x) = [\n",
    "    ( 2*(x[1] - z[1]), 2*(x[2] - z[2]), -2*x[3] )\n",
    "    for i=1:m\n",
    "]\n",
    "# A(x) = ForwardDiff.jacobian(r,x)"
   ]
  },
  {
   "cell_type": "code",
   "execution_count": 66,
   "metadata": {},
   "outputs": [
    {
     "data": {
      "text/plain": [
       "r (generic function with 1 method)"
      ]
     },
     "execution_count": 66,
     "metadata": {},
     "output_type": "execute_result"
    }
   ],
   "source": [
    "function gn(r, A, x, tol=1e-6; maxits=5length(x))\n",
    "    trace = Matrix(0,2)   # store pair ||A'r||,||x(k+1) - x(k)||\n",
    "    xk = copy(x)\n",
    "    for i = 1:maxits\n",
    "        rk = r(xk)\n",
    "        Ak = A(xk)\n",
    "        bk = Ak*xk - rk\n",
    "        \n",
    "        ∇f = Ak'*rk\n",
    "        \n",
    "        trace = [trace; [norm(∇f) norm(x-xk)]]\n",
    "        norm(∇f) ≤ tol && norm(x-xk) ≤ tol && break\n",
    "        x = copy(xk)        \n",
    "        xk = Ak\\bk\n",
    "    end\n",
    "    return (xk,trace)\n",
    "end;"
   ]
  },
  {
   "cell_type": "code",
   "execution_count": 69,
   "metadata": {},
   "outputs": [
    {
     "ename": "UndefVarError",
     "evalue": "UndefVarError: trace not defined",
     "output_type": "error",
     "traceback": [
      "UndefVarError: trace not defined",
      "",
      "Stacktrace:",
      " [1] top-level scope at In[69]:1"
     ]
    }
   ],
   "source": [
    "x0 = [mean(df.x), mean(df.y), 100]\n",
    "x, trace = gn(r, A, x0, maxits=100)\n",
    "plot(\n",
    "    plot(trace[:,1],yaxis=:log),\n",
    "    plot(trace[2:end,2],yaxis=:log)\n",
    "    )"
   ]
  },
  {
   "cell_type": "code",
   "execution_count": 73,
   "metadata": {},
   "outputs": [
    {
     "data": {
      "text/plain": [
       "3-element Array{Float64,1}:\n",
       " 227.6095238095238\n",
       " 152.2031746031746\n",
       " 100.0            "
      ]
     },
     "execution_count": 73,
     "metadata": {},
     "output_type": "execute_result"
    }
   ],
   "source": []
  },
  {
   "cell_type": "code",
   "execution_count": null,
   "metadata": {},
   "outputs": [],
   "source": []
  }
 ],
 "metadata": {
  "kernelspec": {
   "display_name": "Julia 1.1.0",
   "language": "julia",
   "name": "julia-1.1"
  },
  "language_info": {
   "file_extension": ".jl",
   "mimetype": "application/julia",
   "name": "julia",
   "version": "1.1.0"
  }
 },
 "nbformat": 4,
 "nbformat_minor": 2
}
